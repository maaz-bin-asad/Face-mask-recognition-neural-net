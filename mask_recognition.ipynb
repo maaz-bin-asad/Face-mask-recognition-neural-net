{
  "nbformat": 4,
  "nbformat_minor": 0,
  "metadata": {
    "colab": {
      "name": "mask_recognition",
      "provenance": [],
      "mount_file_id": "1FDZbnpmTwC7vqFwB6tPxML9_xSW1yeFr",
      "authorship_tag": "ABX9TyPGYafsIcXp1oWO7hVUHuOs",
      "include_colab_link": true
    },
    "kernelspec": {
      "name": "python3",
      "display_name": "Python 3"
    }
  },
  "cells": [
    {
      "cell_type": "markdown",
      "metadata": {
        "id": "view-in-github",
        "colab_type": "text"
      },
      "source": [
        "<a href=\"https://colab.research.google.com/github/maaz-bin-asad/Face-mask-recognition-neural-net/blob/master/mask_recognition.ipynb\" target=\"_parent\"><img src=\"https://colab.research.google.com/assets/colab-badge.svg\" alt=\"Open In Colab\"/></a>"
      ]
    },
    {
      "cell_type": "markdown",
      "metadata": {
        "id": "gXiet51th8La",
        "colab_type": "text"
      },
      "source": [
        "Mounting google drive"
      ]
    },
    {
      "cell_type": "code",
      "metadata": {
        "id": "jhXoOFH7wTz1",
        "colab_type": "code",
        "outputId": "d9a4a6f6-edf1-4ba1-c97e-a4d43f0f3aed",
        "colab": {
          "base_uri": "https://localhost:8080/",
          "height": 37
        }
      },
      "source": [
        "from google.colab import drive\n",
        "drive.mount('/content/drive')"
      ],
      "execution_count": 0,
      "outputs": [
        {
          "output_type": "stream",
          "text": [
            "Drive already mounted at /content/drive; to attempt to forcibly remount, call drive.mount(\"/content/drive\", force_remount=True).\n"
          ],
          "name": "stdout"
        }
      ]
    },
    {
      "cell_type": "markdown",
      "metadata": {
        "id": "OfQPHuaoiITC",
        "colab_type": "text"
      },
      "source": [
        "Joining paths of directories"
      ]
    },
    {
      "cell_type": "code",
      "metadata": {
        "id": "orqDZFbVzLkR",
        "colab_type": "code",
        "outputId": "bb257169-b511-4d82-9e21-cb9d3ef796a1",
        "colab": {
          "base_uri": "https://localhost:8080/",
          "height": 96
        }
      },
      "source": [
        "import os\n",
        "path='/content/drive/My Drive/Face Mask Detection/dataset'\n",
        "categories=os.listdir(path)\n",
        "print(categories)\n",
        "labels=[i for i in range(len(categories))]\n",
        "label_dict=dict(zip(categories,labels))\n",
        "print(label_dict)\n",
        "mask=os.path.join(path,'with mask')\n",
        "print(len(os.listdir(mask)))\n",
        "nomask=os.path.join(path,'without mask')\n",
        "print(len(os.listdir(nomask)))"
      ],
      "execution_count": 5,
      "outputs": [
        {
          "output_type": "stream",
          "text": [
            "['without mask', 'with mask']\n",
            "{'without mask': 0, 'with mask': 1}\n",
            "690\n",
            "686\n"
          ],
          "name": "stdout"
        }
      ]
    },
    {
      "cell_type": "markdown",
      "metadata": {
        "id": "M58Tm5YxiPhR",
        "colab_type": "text"
      },
      "source": [
        "Using transfer learning"
      ]
    },
    {
      "cell_type": "code",
      "metadata": {
        "id": "INwnmjHp6SKG",
        "colab_type": "code",
        "colab": {
          "base_uri": "https://localhost:8080/",
          "height": 1000
        },
        "outputId": "1c5f2b7c-338c-43cd-f17d-961f4ceef77c"
      },
      "source": [
        "import tensorflow \n",
        "from tensorflow.keras import Model\n",
        "from tensorflow.keras.applications.vgg16 import VGG16\n",
        "pre_trained_model=VGG16(\n",
        "    include_top=False,\n",
        "    weights='imagenet',\n",
        "    input_shape=[150,150,3],\n",
        ")\n",
        "for layer in pre_trained_model.layers:\n",
        "    layer.trainable=False\n",
        "from tensorflow.keras.optimizers import RMSprop\n",
        "x=tensorflow.keras.layers.Flatten()(pre_trained_model.output)\n",
        "x=tensorflow.keras.layers.Dense(1,activation='sigmoid')(x)\n",
        "model=Model(pre_trained_model.input,outputs=x)\n",
        "print(model.summary())\n",
        "model.compile(optimizer=RMSprop(lr=0.0001),\n",
        "              loss='binary_crossentropy',\n",
        "              metrics=['accuracy'])\n",
        "\n"
      ],
      "execution_count": 7,
      "outputs": [
        {
          "output_type": "stream",
          "text": [
            "Model: \"model_1\"\n",
            "_________________________________________________________________\n",
            "Layer (type)                 Output Shape              Param #   \n",
            "=================================================================\n",
            "input_4 (InputLayer)         [(None, 150, 150, 3)]     0         \n",
            "_________________________________________________________________\n",
            "block1_conv1 (Conv2D)        (None, 150, 150, 64)      1792      \n",
            "_________________________________________________________________\n",
            "block1_conv2 (Conv2D)        (None, 150, 150, 64)      36928     \n",
            "_________________________________________________________________\n",
            "block1_pool (MaxPooling2D)   (None, 75, 75, 64)        0         \n",
            "_________________________________________________________________\n",
            "block2_conv1 (Conv2D)        (None, 75, 75, 128)       73856     \n",
            "_________________________________________________________________\n",
            "block2_conv2 (Conv2D)        (None, 75, 75, 128)       147584    \n",
            "_________________________________________________________________\n",
            "block2_pool (MaxPooling2D)   (None, 37, 37, 128)       0         \n",
            "_________________________________________________________________\n",
            "block3_conv1 (Conv2D)        (None, 37, 37, 256)       295168    \n",
            "_________________________________________________________________\n",
            "block3_conv2 (Conv2D)        (None, 37, 37, 256)       590080    \n",
            "_________________________________________________________________\n",
            "block3_conv3 (Conv2D)        (None, 37, 37, 256)       590080    \n",
            "_________________________________________________________________\n",
            "block3_pool (MaxPooling2D)   (None, 18, 18, 256)       0         \n",
            "_________________________________________________________________\n",
            "block4_conv1 (Conv2D)        (None, 18, 18, 512)       1180160   \n",
            "_________________________________________________________________\n",
            "block4_conv2 (Conv2D)        (None, 18, 18, 512)       2359808   \n",
            "_________________________________________________________________\n",
            "block4_conv3 (Conv2D)        (None, 18, 18, 512)       2359808   \n",
            "_________________________________________________________________\n",
            "block4_pool (MaxPooling2D)   (None, 9, 9, 512)         0         \n",
            "_________________________________________________________________\n",
            "block5_conv1 (Conv2D)        (None, 9, 9, 512)         2359808   \n",
            "_________________________________________________________________\n",
            "block5_conv2 (Conv2D)        (None, 9, 9, 512)         2359808   \n",
            "_________________________________________________________________\n",
            "block5_conv3 (Conv2D)        (None, 9, 9, 512)         2359808   \n",
            "_________________________________________________________________\n",
            "block5_pool (MaxPooling2D)   (None, 4, 4, 512)         0         \n",
            "_________________________________________________________________\n",
            "flatten_2 (Flatten)          (None, 8192)              0         \n",
            "_________________________________________________________________\n",
            "dense_1 (Dense)              (None, 1)                 8193      \n",
            "=================================================================\n",
            "Total params: 14,722,881\n",
            "Trainable params: 8,193\n",
            "Non-trainable params: 14,714,688\n",
            "_________________________________________________________________\n",
            "None\n"
          ],
          "name": "stdout"
        }
      ]
    },
    {
      "cell_type": "code",
      "metadata": {
        "id": "u6D3Eco0cG07",
        "colab_type": "code",
        "colab": {
          "base_uri": "https://localhost:8080/",
          "height": 235
        },
        "outputId": "c97f442d-c738-48d5-ffb8-eb53e86fbfec"
      },
      "source": [
        "from tensorflow.keras.preprocessing.image import ImageDataGenerator\n",
        "train_datagen=ImageDataGenerator(rescale=1/255,rotation_range=40,width_shift_range=0.2,shear_range=0.2)\n",
        "train_generator=train_datagen.flow_from_directory(path,target_size=(150,150),batch_size=20,class_mode='binary')\n",
        "history=model.fit_generator(train_generator,steps_per_epoch=1,epochs=5,verbose=1)"
      ],
      "execution_count": 8,
      "outputs": [
        {
          "output_type": "stream",
          "text": [
            "Found 1376 images belonging to 2 classes.\n",
            "Epoch 1/5\n",
            "1/1 [==============================] - 0s 2ms/step - loss: 0.7480 - accuracy: 0.5500\n",
            "Epoch 2/5\n",
            "1/1 [==============================] - 0s 1ms/step - loss: 0.7247 - accuracy: 0.6000\n",
            "Epoch 3/5\n",
            "1/1 [==============================] - 0s 2ms/step - loss: 0.8453 - accuracy: 0.3000\n",
            "Epoch 4/5\n",
            "1/1 [==============================] - 0s 1ms/step - loss: 0.6715 - accuracy: 0.6500\n",
            "Epoch 5/5\n",
            "1/1 [==============================] - 0s 2ms/step - loss: 0.6767 - accuracy: 0.6000\n"
          ],
          "name": "stdout"
        }
      ]
    },
    {
      "cell_type": "code",
      "metadata": {
        "id": "Q_Is7GBB6XCM",
        "colab_type": "code",
        "outputId": "dd9646ad-019a-4679-b7b6-8f16d78b9259",
        "colab": {
          "base_uri": "https://localhost:8080/",
          "height": 513
        }
      },
      "source": [
        "import matplotlib.pyplot as plt\n",
        "plt.plot(history.history['loss'],label='train_loss')\n",
        "plt.legend()\n",
        "plt.show()\n",
        "plt.plot(history.history['accuracy'],label='train_acc')\n",
        "plt.legend()\n",
        "plt.show()"
      ],
      "execution_count": 9,
      "outputs": [
        {
          "output_type": "display_data",
          "data": {
            "image/png": "[encoded data removed]",
            "text/plain": [
              "<Figure size 432x288 with 1 Axes>"
            ]
          },
          "metadata": {
            "tags": [],
            "needs_background": "light"
          }
        },
        {
          "output_type": "display_data",
          "data": {
            "image/png": "[encoded data removed]",
            "text/plain": [
              "<Figure size 432x288 with 1 Axes>"
            ]
          },
          "metadata": {
            "tags": [],
            "needs_background": "light"
          }
        }
      ]
    },
    {
      "cell_type": "code",
      "metadata": {
        "id": "3xQCfdQT9bXK",
        "colab_type": "code",
        "colab": {}
      },
      "source": [
        "import cv2\n",
        "face=cv2.CascadeClassifier('/content/drive/My Drive/Face Mask Detection/haarcascade_frontalface_default.xml')\n",
        "cap=cv2.VideoCapture(0)\n",
        "labels_dict={0:'MASK',1:'NO MASK'}\n",
        "color_dict={0:(0,255,0),1:(0,0,255)}"
      ],
      "execution_count": 0,
      "outputs": []
    },
    {
      "cell_type": "markdown",
      "metadata": {
        "id": "CBferL33iZ0d",
        "colab_type": "text"
      },
      "source": [
        "Detecting faces "
      ]
    },
    {
      "cell_type": "code",
      "metadata": {
        "id": "HBjM_Xi_el_C",
        "colab_type": "code",
        "colab": {}
      },
      "source": [
        "from google.colab.patches import cv2_imshow\n",
        "while(True):\n",
        "\n",
        "    ret,img=cap.read()\n",
        "    faces=face.detectMultiScale(img,1.3,5)  \n",
        "\n",
        "    for (x,y,w,h) in faces:\n",
        "    \n",
        "        face_img=gray[y:y+w,x:x+w]\n",
        "        resized=cv2.resize(face_img,(150,150))\n",
        "        normalized=resized/255.0\n",
        "        reshaped=np.reshape(normalized,(1,150,150,3))\n",
        "        result=model.predict(reshaped)\n",
        "\n",
        "        label=np.argmax(result,axis=1)[0]\n",
        "      \n",
        "        cv2.rectangle(img,(x,y),(x+w,y+h),color_dict[label],2)\n",
        "        cv2.rectangle(img,(x,y-40),(x+w,y),color_dict[label],-1)\n",
        "        cv2.putText(img, labels_dict[label], (x, y-10),cv2.FONT_HERSHEY_SIMPLEX,0.8,(255,255,255),2)\n",
        "        \n",
        "        \n",
        "    cv2_imshow(img)\n",
        "    key=cv2.waitKey(1)\n",
        "    \n",
        "    if(key==27):\n",
        "        break\n",
        "        \n",
        "cv2.destroyAllWindows()\n",
        "cap.release()"
      ],
      "execution_count": 0,
      "outputs": []
    }
  ]
}